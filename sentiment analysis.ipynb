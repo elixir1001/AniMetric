{
 "cells": [
  {
   "cell_type": "code",
   "execution_count": 5,
   "id": "c6378ccc-7e6f-4f8b-a3a5-006b162288ea",
   "metadata": {},
   "outputs": [],
   "source": [
    "import pandas as pd\n",
    "import numpy as np\n",
    "from transformers import AutoTokenizer, AutoModelForSequenceClassification\n",
    "import requests\n",
    "from bs4 import BeautifulSoup\n",
    "import re\n",
    "\n",
    "myanimelist_url = 'https://myanimelist.net/anime/52973/Megami_no_Caf%C3%A9_Terrace'\n",
    "\n",
    "r = requests.get(myanimelist_url)\n",
    "soup = BeautifulSoup(r.text, 'html.parser')\n",
    "regex = re.compile('.*text.*')\n",
    "\n",
    "results = soup.find_all('div', {'class':regex})\n",
    "reviews = [result.text for result in results]\n",
    "\n",
    "df = pd.DataFrame(np.array(reviews), columns=['review'])\n",
    "\n",
    "from textblob import TextBlob\n",
    "\n",
    "# Assuming 'df' is your dataframe and 'column_name' is the name of the column containing strings\n",
    "# Replace 'column_name' with the actual column name in your dataframe\n",
    "sentiment_scores = []\n",
    "for text in df['review']:\n",
    "    blob = TextBlob(str(text))\n",
    "    sentiment_scores.append(blob.sentiment.polarity)\n",
    "\n",
    "# Adding sentiment scores to the dataframe\n",
    "df['sentiment_score'] = sentiment_scores\n"
   ]
  },
  {
   "cell_type": "code",
   "execution_count": 6,
   "id": "70f28cd3-056f-4218-b182-f671be05a021",
   "metadata": {},
   "outputs": [
    {
     "data": {
      "text/html": [
       "<div>\n",
       "<style scoped>\n",
       "    .dataframe tbody tr th:only-of-type {\n",
       "        vertical-align: middle;\n",
       "    }\n",
       "\n",
       "    .dataframe tbody tr th {\n",
       "        vertical-align: top;\n",
       "    }\n",
       "\n",
       "    .dataframe thead th {\n",
       "        text-align: right;\n",
       "    }\n",
       "</style>\n",
       "<table border=\"1\" class=\"dataframe\">\n",
       "  <thead>\n",
       "    <tr style=\"text-align: right;\">\n",
       "      <th></th>\n",
       "      <th>review</th>\n",
       "      <th>sentiment_score</th>\n",
       "    </tr>\n",
       "  </thead>\n",
       "  <tbody>\n",
       "    <tr>\n",
       "      <th>0</th>\n",
       "      <td></td>\n",
       "      <td>0.000000</td>\n",
       "    </tr>\n",
       "    <tr>\n",
       "      <th>1</th>\n",
       "      <td>CARDFIGHT!! VANGUARD will+Dress Season 3 Trivi...</td>\n",
       "      <td>0.000000</td>\n",
       "    </tr>\n",
       "    <tr>\n",
       "      <th>2</th>\n",
       "      <td>Nodame Cantabile voice actor talk &amp; exhibition...</td>\n",
       "      <td>0.000000</td>\n",
       "    </tr>\n",
       "    <tr>\n",
       "      <th>3</th>\n",
       "      <td>'How to Draw Anime &amp; Manga: Premium' Course is...</td>\n",
       "      <td>0.625000</td>\n",
       "    </tr>\n",
       "    <tr>\n",
       "      <th>4</th>\n",
       "      <td>\\n        It’s not great. It’s trashy. But it ...</td>\n",
       "      <td>0.237489</td>\n",
       "    </tr>\n",
       "  </tbody>\n",
       "</table>\n",
       "</div>"
      ],
      "text/plain": [
       "                                              review  sentiment_score\n",
       "0                                                            0.000000\n",
       "1  CARDFIGHT!! VANGUARD will+Dress Season 3 Trivi...         0.000000\n",
       "2  Nodame Cantabile voice actor talk & exhibition...         0.000000\n",
       "3  'How to Draw Anime & Manga: Premium' Course is...         0.625000\n",
       "4  \\n        It’s not great. It’s trashy. But it ...         0.237489"
      ]
     },
     "execution_count": 6,
     "metadata": {},
     "output_type": "execute_result"
    }
   ],
   "source": [
    "df.head()"
   ]
  },
  {
   "cell_type": "code",
   "execution_count": null,
   "id": "b2141e42-d261-4bae-a358-e1a7cd21801f",
   "metadata": {},
   "outputs": [],
   "source": []
  }
 ],
 "metadata": {
  "kernelspec": {
   "display_name": "Python 3 (ipykernel)",
   "language": "python",
   "name": "python3"
  },
  "language_info": {
   "codemirror_mode": {
    "name": "ipython",
    "version": 3
   },
   "file_extension": ".py",
   "mimetype": "text/x-python",
   "name": "python",
   "nbconvert_exporter": "python",
   "pygments_lexer": "ipython3",
   "version": "3.10.8"
  }
 },
 "nbformat": 4,
 "nbformat_minor": 5
}
